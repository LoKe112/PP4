{
 "cells": [
  {
   "cell_type": "markdown",
   "metadata": {},
   "source": [
    "Imports"
   ]
  },
  {
   "cell_type": "code",
   "execution_count": 107,
   "metadata": {},
   "outputs": [],
   "source": [
    "import numpy as np\n",
    "import pandas as pd\n",
    "import matplotlib.pyplot as plt"
   ]
  },
  {
   "cell_type": "markdown",
   "metadata": {},
   "source": [
    "Dataframe"
   ]
  },
  {
   "cell_type": "code",
   "execution_count": 108,
   "metadata": {},
   "outputs": [],
   "source": [
    "def get_processed_df(path: str) -> pd.DataFrame:\n",
    "    \"\"\"read csv file and create dataframe\n",
    "    Args:\n",
    "      path: path to dataset\n",
    "    Returns:\n",
    "      Dataframe without NaN values and with the addition of the Fahrenheit temperature column\n",
    "    \"\"\"\n",
    "    df = pd.read_csv(path, header=None)\n",
    "    df.columns = [\"Date\",\n",
    "                  \"Value\"]\n",
    "    df['Date'] = pd.to_datetime(df['Date'], format='%Y-%m-%d')\n",
    "    if not ((df.isnull().sum()).eq(0).all()):\n",
    "        df.dropna(inplace=True, ignore_index=True)\n",
    "    curestd,curemedian = df['Value'].mean(),df['Value'].median()\n",
    "    df['MedianDeviation'] = abs(curemedian-df['Value'])\n",
    "    df['StdDeviation'] = abs(curestd-df['Value'])\n",
    "    return df"
   ]
  },
  {
   "cell_type": "code",
   "execution_count": 109,
   "metadata": {},
   "outputs": [],
   "source": [
    "df = get_processed_df(\"dataset.csv\")"
   ]
  },
  {
   "cell_type": "code",
   "execution_count": 110,
   "metadata": {},
   "outputs": [
    {
     "name": "stdout",
     "output_type": "stream",
     "text": [
      "           Date    Value  MedianDeviation  StdDeviation\n",
      "0    2008-01-10  24.4387          33.1753     27.304524\n",
      "1    2008-01-11  24.4796          33.1344     27.263624\n",
      "2    2008-01-12  24.3671          33.2469     27.376124\n",
      "3    2008-01-15  24.2913          33.3227     27.451924\n",
      "4    2008-01-16  24.2858          33.3282     27.457424\n",
      "...         ...      ...              ...           ...\n",
      "3932 2023-11-28  88.7045          31.0905     36.961276\n",
      "3933 2023-11-29  88.6102          30.9962     36.866976\n",
      "3934 2023-11-30  88.8841          31.2701     37.140876\n",
      "3935 2023-12-01  88.5819          30.9679     36.838676\n",
      "3936 2023-12-02  89.7619          32.1479     38.018676\n",
      "\n",
      "[3937 rows x 4 columns]\n"
     ]
    }
   ],
   "source": [
    "print(get_processed_df(\"dataset.csv\"))"
   ]
  },
  {
   "cell_type": "markdown",
   "metadata": {},
   "source": [
    "Statistics"
   ]
  },
  {
   "cell_type": "code",
   "execution_count": 111,
   "metadata": {},
   "outputs": [],
   "source": [
    "def get_statistical_info(df: pd.DataFrame, parametr: str) -> pd.Series:\n",
    "    \"\"\"Getting statistical information\n",
    "    Args:\n",
    "      df: Dataframe with original values\n",
    "      parametr: column for statistic\n",
    "    Returns:\n",
    "      A series containing a statistical info\n",
    "    \"\"\"\n",
    "    if parametr in df.columns:\n",
    "        return df[parametr].describe()"
   ]
  },
  {
   "cell_type": "code",
   "execution_count": 112,
   "metadata": {},
   "outputs": [
    {
     "name": "stdout",
     "output_type": "stream",
     "text": [
      "count    3937.000000\n",
      "mean       51.743224\n",
      "std        20.014501\n",
      "min        23.125500\n",
      "25%        31.179100\n",
      "50%        57.614000\n",
      "75%        66.330900\n",
      "max       120.378500\n",
      "Name: Value, dtype: float64\n",
      "count    3937.000000\n",
      "mean       17.763405\n",
      "std        10.928693\n",
      "min         0.000000\n",
      "25%         7.196200\n",
      "50%        18.951000\n",
      "75%        26.791300\n",
      "max        62.764500\n",
      "Name: MedianDeviation, dtype: float64\n",
      "count    3937.000000\n",
      "mean       18.260302\n",
      "std         8.188828\n",
      "min         0.014176\n",
      "25%        12.621976\n",
      "50%        19.493876\n",
      "75%        22.298024\n",
      "max        68.635276\n",
      "Name: StdDeviation, dtype: float64\n"
     ]
    }
   ],
   "source": [
    "print(get_statistical_info(df, \"Value\"))\n",
    "print(get_statistical_info(df, \"MedianDeviation\"))\n",
    "print(get_statistical_info(df, \"StdDeviation\"))\n"
   ]
  },
  {
   "cell_type": "markdown",
   "metadata": {},
   "source": [
    "Filtration"
   ]
  },
  {
   "cell_type": "code",
   "execution_count": 113,
   "metadata": {},
   "outputs": [],
   "source": [
    "def std_deviation_filtration(df: pd.DataFrame, std_deviation: float) -> pd.DataFrame:\n",
    "    \"\"\"Filtering by column temperature in degrees Celsius\n",
    "    Args:\n",
    "      df: Dataframe with original values\n",
    "      celsius_temp: temperature in degrees Celsius\n",
    "    Returns:\n",
    "      Dataframe with days in which the temperature is not less than the set temperature\n",
    "    \"\"\"\n",
    "    return df[df[\"StdDeviation\"] >= std_deviation]"
   ]
  },
  {
   "cell_type": "code",
   "execution_count": 115,
   "metadata": {},
   "outputs": [
    {
     "name": "stdout",
     "output_type": "stream",
     "text": [
      "           Date    Value  MedianDeviation  StdDeviation\n",
      "1994 2016-01-22  83.5913          25.9773     31.848076\n",
      "1997 2016-01-27  81.8394          24.2254     30.096176\n",
      "3495 2022-02-25  86.9288          29.3148     35.185576\n",
      "3496 2022-02-26  83.5485          25.9345     31.805276\n",
      "3497 2022-03-01  93.5589          35.9449     41.815676\n",
      "...         ...      ...              ...           ...\n",
      "3932 2023-11-28  88.7045          31.0905     36.961276\n",
      "3933 2023-11-29  88.6102          30.9962     36.866976\n",
      "3934 2023-11-30  88.8841          31.2701     37.140876\n",
      "3935 2023-12-01  88.5819          30.9679     36.838676\n",
      "3936 2023-12-02  89.7619          32.1479     38.018676\n",
      "\n",
      "[160 rows x 4 columns]\n"
     ]
    }
   ],
   "source": [
    "print(std_deviation_filtration(df, 30))"
   ]
  }
 ],
 "metadata": {
  "kernelspec": {
   "display_name": "base",
   "language": "python",
   "name": "python3"
  },
  "language_info": {
   "codemirror_mode": {
    "name": "ipython",
    "version": 3
   },
   "file_extension": ".py",
   "mimetype": "text/x-python",
   "name": "python",
   "nbconvert_exporter": "python",
   "pygments_lexer": "ipython3",
   "version": "3.11.5"
  }
 },
 "nbformat": 4,
 "nbformat_minor": 2
}
