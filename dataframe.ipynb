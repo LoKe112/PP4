{
 "cells": [
  {
   "cell_type": "markdown",
   "metadata": {},
   "source": [
    "Imports"
   ]
  },
  {
   "cell_type": "code",
   "execution_count": 1,
   "metadata": {},
   "outputs": [],
   "source": [
    "import numpy as np\n",
    "import pandas as pd\n",
    "import matplotlib.pyplot as plt"
   ]
  },
  {
   "cell_type": "markdown",
   "metadata": {},
   "source": [
    "Dataframe"
   ]
  },
  {
   "cell_type": "code",
   "execution_count": 2,
   "metadata": {},
   "outputs": [],
   "source": [
    "def get_processed_df(path: str) -> pd.DataFrame:\n",
    "    \"\"\"read csv file and create dataframe\n",
    "    Args:\n",
    "      path: path to dataset\n",
    "    Returns:\n",
    "      Dataframe without NaN values and with the addition of the Fahrenheit temperature column\n",
    "    \"\"\"\n",
    "    df = pd.read_csv(path, header=None)\n",
    "    df.columns = [\"Date\",\n",
    "                  \"Value\"]\n",
    "    df['Date'] = pd.to_datetime(df['Date'], format='%Y-%m-%d')\n",
    "    if not ((df.isnull().sum()).eq(0).all()):\n",
    "        df.dropna(inplace=True, ignore_index=True)\n",
    "    curestd,curemean = df['Value'].std(),df['Value'].mean()\n",
    "    df['MeanDeviation'] = curemean-df['Value']\n",
    "    df['StdDeviation'] = curestd-df['Value']\n",
    "    return df"
   ]
  },
  {
   "cell_type": "code",
   "execution_count": 3,
   "metadata": {},
   "outputs": [
    {
     "name": "stdout",
     "output_type": "stream",
     "text": [
      "           Date    Value  MeanDeviation  StdDeviation\n",
      "0    2008-01-10  24.4387      27.304524     -4.424199\n",
      "1    2008-01-11  24.4796      27.263624     -4.465099\n",
      "2    2008-01-12  24.3671      27.376124     -4.352599\n",
      "3    2008-01-15  24.2913      27.451924     -4.276799\n",
      "4    2008-01-16  24.2858      27.457424     -4.271299\n",
      "...         ...      ...            ...           ...\n",
      "3932 2023-11-28  88.7045     -36.961276    -68.689999\n",
      "3933 2023-11-29  88.6102     -36.866976    -68.595699\n",
      "3934 2023-11-30  88.8841     -37.140876    -68.869599\n",
      "3935 2023-12-01  88.5819     -36.838676    -68.567399\n",
      "3936 2023-12-02  89.7619     -38.018676    -69.747399\n",
      "\n",
      "[3937 rows x 4 columns]\n"
     ]
    }
   ],
   "source": [
    "print(get_processed_df(\"dataset.csv\"))"
   ]
  }
 ],
 "metadata": {
  "kernelspec": {
   "display_name": "base",
   "language": "python",
   "name": "python3"
  },
  "language_info": {
   "codemirror_mode": {
    "name": "ipython",
    "version": 3
   },
   "file_extension": ".py",
   "mimetype": "text/x-python",
   "name": "python",
   "nbconvert_exporter": "python",
   "pygments_lexer": "ipython3",
   "version": "3.11.5"
  }
 },
 "nbformat": 4,
 "nbformat_minor": 2
}
